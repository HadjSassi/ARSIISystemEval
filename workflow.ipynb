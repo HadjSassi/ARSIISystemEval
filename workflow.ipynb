{
 "cells": [
  {
   "cell_type": "markdown",
   "source": [
    "# Import libraries"
   ],
   "metadata": {
    "collapsed": false,
    "pycharm": {
     "name": "#%% md\n"
    }
   }
  },
  {
   "cell_type": "code",
   "execution_count": 1,
   "outputs": [],
   "source": [
    "import pandas as pd"
   ],
   "metadata": {
    "collapsed": false,
    "pycharm": {
     "name": "#%%\n"
    }
   }
  },
  {
   "cell_type": "markdown",
   "source": [
    "# Load The Dataset"
   ],
   "metadata": {
    "collapsed": false,
    "pycharm": {
     "name": "#%% md\n"
    }
   }
  },
  {
   "cell_type": "code",
   "execution_count": 2,
   "outputs": [],
   "source": [
    "data = pd.read_csv(\"data.csv\")"
   ],
   "metadata": {
    "collapsed": false,
    "pycharm": {
     "name": "#%%\n"
    }
   }
  },
  {
   "cell_type": "markdown",
   "source": [
    "## Function to quiz user"
   ],
   "metadata": {
    "collapsed": false,
    "pycharm": {
     "name": "#%% md\n"
    }
   }
  },
  {
   "cell_type": "code",
   "execution_count": 3,
   "outputs": [],
   "source": [
    "def quiz(data,nb):\n",
    "    score = 0\n",
    "    for index, row in data.iterrows():\n",
    "        print(\"Question:\", row[\"Question\"])\n",
    "        user_response = input(\"Your answer: \")\n",
    "        if user_response == row[\"Réponse correcte\"]:\n",
    "            print(\"Correct!\")\n",
    "            score += 1\n",
    "        else:\n",
    "            print(\"Incorrect!\")\n",
    "        print()  # Empty line for readability\n",
    "\n",
    "        if index == nb:  # Break after 5 questions\n",
    "            break\n",
    "\n",
    "    return score"
   ],
   "metadata": {
    "collapsed": false,
    "pycharm": {
     "name": "#%%\n"
    }
   }
  },
  {
   "cell_type": "markdown",
   "source": [
    "# Run The Quiz"
   ],
   "metadata": {
    "collapsed": false,
    "pycharm": {
     "name": "#%% md\n"
    }
   }
  },
  {
   "cell_type": "code",
   "execution_count": 4,
   "outputs": [
    {
     "name": "stdout",
     "output_type": "stream",
     "text": [
      "Question: Qu'est-ce que Python ?\n",
      "Incorrect!\n",
      "\n",
      "Question: Quelle est la différence entre Python 2 et Python 3 ?\n",
      "Incorrect!\n",
      "\n",
      "Question: Comment déclare-t-on une variable en Python ?\n",
      "Incorrect!\n",
      "\n",
      "Question: Quelle est la sortie de print(3 * 2)?\n",
      "Incorrect!\n",
      "\n",
      "Question: Quel est le résultat de l'expression 3 // 2 en Python ?\n",
      "Incorrect!\n",
      "\n",
      "Question: Qu'est-ce que la programmation orientée objet (POO) ?\n",
      "Incorrect!\n",
      "\n"
     ]
    }
   ],
   "source": [
    "total_questions = 5\n",
    "total_score = quiz(data,total_questions)"
   ],
   "metadata": {
    "collapsed": false,
    "pycharm": {
     "name": "#%%\n"
    }
   }
  },
  {
   "cell_type": "markdown",
   "source": [
    "# Summary"
   ],
   "metadata": {
    "collapsed": false,
    "pycharm": {
     "name": "#%% md\n"
    }
   }
  },
  {
   "cell_type": "code",
   "execution_count": 5,
   "outputs": [
    {
     "name": "stdout",
     "output_type": "stream",
     "text": [
      "Quiz complete!\n",
      "Total score: 0 / 5\n"
     ]
    }
   ],
   "source": [
    "print(\"Quiz complete!\")\n",
    "print(\"Total score:\", total_score, \"/\", total_questions)"
   ],
   "metadata": {
    "collapsed": false,
    "pycharm": {
     "name": "#%%\n"
    }
   }
  },
  {
   "cell_type": "code",
   "execution_count": 6,
   "outputs": [],
   "source": [
    "import spacy"
   ],
   "metadata": {
    "collapsed": false,
    "pycharm": {
     "name": "#%%\n"
    }
   }
  },
  {
   "cell_type": "code",
   "execution_count": 7,
   "outputs": [],
   "source": [
    "nlp = spacy.load(\"fr_core_news_lg\")"
   ],
   "metadata": {
    "collapsed": false,
    "pycharm": {
     "name": "#%%\n"
    }
   }
  },
  {
   "cell_type": "code",
   "execution_count": 24,
   "outputs": [
    {
     "data": {
      "text/plain": "0.4495169222354889"
     },
     "execution_count": 24,
     "metadata": {},
     "output_type": "execute_result"
    }
   ],
   "source": [
    "w1 = \"insect\"\n",
    "w2 = \"ver\"\n",
    "\n",
    "w1 = nlp.vocab[w1]\n",
    "w2 = nlp.vocab[w2]\n",
    "w1.similarity(w2)"
   ],
   "metadata": {
    "collapsed": false,
    "pycharm": {
     "name": "#%%\n"
    }
   }
  },
  {
   "cell_type": "code",
   "execution_count": 25,
   "outputs": [
    {
     "data": {
      "text/plain": "0.4495168999393981"
     },
     "execution_count": 25,
     "metadata": {},
     "output_type": "execute_result"
    }
   ],
   "source": [
    "w1 = \"insect\"\n",
    "w2 = \"ver\"\n",
    "\n",
    "w1 = nlp(w1)\n",
    "w2 = nlp(w2)\n",
    "w1.similarity(w2)"
   ],
   "metadata": {
    "collapsed": false,
    "pycharm": {
     "name": "#%%\n"
    }
   }
  },
  {
   "cell_type": "code",
   "execution_count": 29,
   "outputs": [],
   "source": [
    "s1 = nlp(\"je suis mahdi hadj sassi\")\n",
    "s2 = nlp(\"je m'appelle hadj sassi mahdi \")\n",
    "s3 = nlp(\"j'ai faim\")"
   ],
   "metadata": {
    "collapsed": false,
    "pycharm": {
     "name": "#%%\n"
    }
   }
  },
  {
   "cell_type": "code",
   "execution_count": 27,
   "outputs": [
    {
     "data": {
      "text/plain": "0.8647766176954461"
     },
     "execution_count": 27,
     "metadata": {},
     "output_type": "execute_result"
    }
   ],
   "source": [
    "s1.similarity(s2)"
   ],
   "metadata": {
    "collapsed": false,
    "pycharm": {
     "name": "#%%\n"
    }
   }
  },
  {
   "cell_type": "code",
   "execution_count": 30,
   "outputs": [
    {
     "data": {
      "text/plain": "0.6025886978003705"
     },
     "execution_count": 30,
     "metadata": {},
     "output_type": "execute_result"
    }
   ],
   "source": [
    "s1.similarity(s3)"
   ],
   "metadata": {
    "collapsed": false,
    "pycharm": {
     "name": "#%%\n"
    }
   }
  },
  {
   "cell_type": "code",
   "execution_count": 46,
   "outputs": [],
   "source": [
    "s1 = nlp(\"je joue le football dans cette médiocre salle.\")\n",
    "s2 = nlp(\"je joue le piano dans cette chambre rouge.\")\n",
    "s3 = nlp(\"je repare le piano dans cette mauvais chambre.\")"
   ],
   "metadata": {
    "collapsed": false,
    "pycharm": {
     "name": "#%%\n"
    }
   }
  },
  {
   "cell_type": "code",
   "execution_count": 47,
   "outputs": [],
   "source": [
    "s1verbs = \" \".join([token.lemma_ for token in s1 if token.pos_ == \"VERB\"])\n",
    "s1ajds = \" \".join([token.lemma_ for token in s1 if token.pos_ == \"ADJ\"])\n",
    "s1nous = \" \".join([token.lemma_ for token in s1 if token.pos_ == \"NOUN\"])\n",
    "s2verbs = \" \".join([token.lemma_ for token in s2 if token.pos_ == \"VERB\"])\n",
    "s2ajds = \" \".join([token.lemma_ for token in s2 if token.pos_ == \"ADJ\"])\n",
    "s2nous = \" \".join([token.lemma_ for token in s2 if token.pos_ == \"NOUN\"])\n",
    "s3verbs = \" \".join([token.lemma_ for token in s3 if token.pos_ == \"VERB\"])\n",
    "s3ajds = \" \".join([token.lemma_ for token in s3 if token.pos_ == \"ADJ\"])\n",
    "s3nous = \" \".join([token.lemma_ for token in s3 if token.pos_ == \"NOUN\"])\n"
   ],
   "metadata": {
    "collapsed": false,
    "pycharm": {
     "name": "#%%\n"
    }
   }
  },
  {
   "cell_type": "code",
   "execution_count": 48,
   "outputs": [
    {
     "name": "stdout",
     "output_type": "stream",
     "text": [
      " s1 and s2 verbs : 1.0\n",
      " s1 and s3 verbs : 0.3588737096533849\n",
      " s3 and s2 verbs : 0.3588737096533849\n"
     ]
    }
   ],
   "source": [
    "print(f\" s1 and s2 verbs : {nlp(s1verbs).similarity(nlp(s2verbs))}\" )\n",
    "print(f\" s1 and s3 verbs : {nlp(s1verbs).similarity(nlp(s3verbs))}\" )\n",
    "print(f\" s3 and s2 verbs : {nlp(s3verbs).similarity(nlp(s2verbs))}\" )"
   ],
   "metadata": {
    "collapsed": false,
    "pycharm": {
     "name": "#%%\n"
    }
   }
  },
  {
   "cell_type": "code",
   "execution_count": 49,
   "outputs": [
    {
     "name": "stdout",
     "output_type": "stream",
     "text": [
      " s1 and s2 adjectives : 0.04086257415982774\n",
      " s1 and s3 adjectives : 0.5375523583224598\n",
      " s3 and s2 adjectives : 0.10545342696247444\n"
     ]
    }
   ],
   "source": [
    "print(f\" s1 and s2 adjectives : {nlp(s1ajds).similarity(nlp(s2ajds))}\" )\n",
    "print(f\" s1 and s3 adjectives : {nlp(s1ajds).similarity(nlp(s3ajds))}\" )\n",
    "print(f\" s3 and s2 adjectives : {nlp(s3ajds).similarity(nlp(s2ajds))}\" )"
   ],
   "metadata": {
    "collapsed": false,
    "pycharm": {
     "name": "#%%\n"
    }
   }
  },
  {
   "cell_type": "code",
   "execution_count": null,
   "outputs": [],
   "source": [],
   "metadata": {
    "collapsed": false,
    "pycharm": {
     "name": "#%%\n",
     "is_executing": true
    }
   }
  },
  {
   "cell_type": "code",
   "execution_count": 50,
   "outputs": [
    {
     "name": "stdout",
     "output_type": "stream",
     "text": [
      " s1 and s2 nouns : 0.41074238467581553\n",
      " s1 and s3 nouns : 0.41074238467581553\n",
      " s3 and s2 nouns : 1.0\n"
     ]
    }
   ],
   "source": [
    "print(f\" s1 and s2 nouns : {nlp(s1nous).similarity(nlp(s2nous))}\" )\n",
    "print(f\" s1 and s3 nouns : {nlp(s1nous).similarity(nlp(s3nous))}\" )\n",
    "print(f\" s3 and s2 nouns : {nlp(s3nous).similarity(nlp(s2nous))}\" )"
   ],
   "metadata": {
    "collapsed": false,
    "pycharm": {
     "name": "#%%\n"
    }
   }
  },
  {
   "cell_type": "code",
   "execution_count": null,
   "outputs": [],
   "source": [],
   "metadata": {
    "collapsed": false,
    "pycharm": {
     "name": "#%%\n"
    }
   }
  }
 ],
 "metadata": {
  "kernelspec": {
   "display_name": "Python 3",
   "language": "python",
   "name": "python3"
  },
  "language_info": {
   "codemirror_mode": {
    "name": "ipython",
    "version": 2
   },
   "file_extension": ".py",
   "mimetype": "text/x-python",
   "name": "python",
   "nbconvert_exporter": "python",
   "pygments_lexer": "ipython2",
   "version": "2.7.6"
  }
 },
 "nbformat": 4,
 "nbformat_minor": 0
}
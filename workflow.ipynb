{
 "cells": [
  {
   "cell_type": "markdown",
   "source": [
    "# Import libraries"
   ],
   "metadata": {
    "collapsed": false,
    "pycharm": {
     "name": "#%% md\n"
    }
   }
  },
  {
   "cell_type": "code",
   "execution_count": 1,
   "outputs": [],
   "source": [
    "import pandas as pd"
   ],
   "metadata": {
    "collapsed": false,
    "pycharm": {
     "name": "#%%\n"
    }
   }
  },
  {
   "cell_type": "markdown",
   "source": [
    "# Load The Dataset"
   ],
   "metadata": {
    "collapsed": false,
    "pycharm": {
     "name": "#%% md\n"
    }
   }
  },
  {
   "cell_type": "code",
   "execution_count": 2,
   "outputs": [],
   "source": [
    "data = pd.read_csv(\"data.csv\")"
   ],
   "metadata": {
    "collapsed": false,
    "pycharm": {
     "name": "#%%\n"
    }
   }
  },
  {
   "cell_type": "markdown",
   "source": [
    "## Function to quiz user"
   ],
   "metadata": {
    "collapsed": false,
    "pycharm": {
     "name": "#%% md\n"
    }
   }
  },
  {
   "cell_type": "code",
   "execution_count": 3,
   "outputs": [],
   "source": [
    "def quiz(data,nb):\n",
    "    score = 0\n",
    "    for index, row in data.iterrows():\n",
    "        print(\"Question:\", row[\"Question\"])\n",
    "        user_response = input(\"Your answer: \")\n",
    "        if user_response == row[\"Réponse correcte\"]:\n",
    "            print(\"Correct!\")\n",
    "            score += 1\n",
    "        else:\n",
    "            print(\"Incorrect!\")\n",
    "        print()  # Empty line for readability\n",
    "\n",
    "        if index == nb:  # Break after 5 questions\n",
    "            break\n",
    "\n",
    "    return score"
   ],
   "metadata": {
    "collapsed": false,
    "pycharm": {
     "name": "#%%\n"
    }
   }
  },
  {
   "cell_type": "markdown",
   "source": [
    "# Run The Quiz"
   ],
   "metadata": {
    "collapsed": false,
    "pycharm": {
     "name": "#%% md\n"
    }
   }
  },
  {
   "cell_type": "code",
   "execution_count": 4,
   "outputs": [
    {
     "name": "stdout",
     "output_type": "stream",
     "text": [
      "Question: Qu'est-ce que Python ?\n",
      "Incorrect!\n",
      "\n",
      "Question: Quelle est la différence entre Python 2 et Python 3 ?\n",
      "Incorrect!\n",
      "\n",
      "Question: Comment déclare-t-on une variable en Python ?\n",
      "Incorrect!\n",
      "\n",
      "Question: Quelle est la sortie de print(3 * 2)?\n",
      "Incorrect!\n",
      "\n",
      "Question: Quel est le résultat de l'expression 3 // 2 en Python ?\n",
      "Incorrect!\n",
      "\n",
      "Question: Qu'est-ce que la programmation orientée objet (POO) ?\n",
      "Incorrect!\n",
      "\n"
     ]
    }
   ],
   "source": [
    "total_questions = 5\n",
    "total_score = quiz(data,total_questions)"
   ],
   "metadata": {
    "collapsed": false,
    "pycharm": {
     "name": "#%%\n"
    }
   }
  },
  {
   "cell_type": "markdown",
   "source": [
    "# Summary"
   ],
   "metadata": {
    "collapsed": false,
    "pycharm": {
     "name": "#%% md\n"
    }
   }
  },
  {
   "cell_type": "code",
   "execution_count": 5,
   "outputs": [
    {
     "name": "stdout",
     "output_type": "stream",
     "text": [
      "Quiz complete!\n",
      "Total score: 0 / 5\n"
     ]
    }
   ],
   "source": [
    "print(\"Quiz complete!\")\n",
    "print(\"Total score:\", total_score, \"/\", total_questions)"
   ],
   "metadata": {
    "collapsed": false,
    "pycharm": {
     "name": "#%%\n"
    }
   }
  },
  {
   "cell_type": "code",
   "execution_count": 6,
   "outputs": [],
   "source": [
    "import spacy"
   ],
   "metadata": {
    "collapsed": false,
    "pycharm": {
     "name": "#%%\n"
    }
   }
  },
  {
   "cell_type": "code",
   "execution_count": 7,
   "outputs": [],
   "source": [
    "nlp = spacy.load(\"fr_core_news_lg\")"
   ],
   "metadata": {
    "collapsed": false,
    "pycharm": {
     "name": "#%%\n"
    }
   }
  },
  {
   "cell_type": "code",
   "execution_count": 24,
   "outputs": [
    {
     "data": {
      "text/plain": "0.4495169222354889"
     },
     "execution_count": 24,
     "metadata": {},
     "output_type": "execute_result"
    }
   ],
   "source": [
    "w1 = \"insect\"\n",
    "w2 = \"ver\"\n",
    "\n",
    "w1 = nlp.vocab[w1]\n",
    "w2 = nlp.vocab[w2]\n",
    "w1.similarity(w2)"
   ],
   "metadata": {
    "collapsed": false,
    "pycharm": {
     "name": "#%%\n"
    }
   }
  },
  {
   "cell_type": "code",
   "execution_count": 25,
   "outputs": [
    {
     "data": {
      "text/plain": "0.4495168999393981"
     },
     "execution_count": 25,
     "metadata": {},
     "output_type": "execute_result"
    }
   ],
   "source": [
    "w1 = \"insect\"\n",
    "w2 = \"ver\"\n",
    "\n",
    "w1 = nlp(w1)\n",
    "w2 = nlp(w2)\n",
    "w1.similarity(w2)"
   ],
   "metadata": {
    "collapsed": false,
    "pycharm": {
     "name": "#%%\n"
    }
   }
  },
  {
   "cell_type": "code",
   "execution_count": 29,
   "outputs": [],
   "source": [
    "s1 = nlp(\"je suis mahdi hadj sassi\")\n",
    "s2 = nlp(\"je m'appelle hadj sassi mahdi \")\n",
    "s3 = nlp(\"j'ai faim\")"
   ],
   "metadata": {
    "collapsed": false,
    "pycharm": {
     "name": "#%%\n"
    }
   }
  },
  {
   "cell_type": "code",
   "execution_count": 27,
   "outputs": [
    {
     "data": {
      "text/plain": "0.8647766176954461"
     },
     "execution_count": 27,
     "metadata": {},
     "output_type": "execute_result"
    }
   ],
   "source": [
    "s1.similarity(s2)"
   ],
   "metadata": {
    "collapsed": false,
    "pycharm": {
     "name": "#%%\n"
    }
   }
  },
  {
   "cell_type": "code",
   "execution_count": 30,
   "outputs": [
    {
     "data": {
      "text/plain": "0.6025886978003705"
     },
     "execution_count": 30,
     "metadata": {},
     "output_type": "execute_result"
    }
   ],
   "source": [
    "s1.similarity(s3)"
   ],
   "metadata": {
    "collapsed": false,
    "pycharm": {
     "name": "#%%\n"
    }
   }
  },
  {
   "cell_type": "code",
   "execution_count": 46,
   "outputs": [],
   "source": [
    "s1 = nlp(\"je joue le football dans cette médiocre salle.\")\n",
    "s2 = nlp(\"je joue le piano dans cette chambre rouge.\")\n",
    "s3 = nlp(\"je repare le piano dans cette mauvais chambre.\")"
   ],
   "metadata": {
    "collapsed": false,
    "pycharm": {
     "name": "#%%\n"
    }
   }
  },
  {
   "cell_type": "code",
   "execution_count": 47,
   "outputs": [],
   "source": [
    "s1verbs = \" \".join([token.lemma_ for token in s1 if token.pos_ == \"VERB\"])\n",
    "s1ajds = \" \".join([token.lemma_ for token in s1 if token.pos_ == \"ADJ\"])\n",
    "s1nous = \" \".join([token.lemma_ for token in s1 if token.pos_ == \"NOUN\"])\n",
    "s2verbs = \" \".join([token.lemma_ for token in s2 if token.pos_ == \"VERB\"])\n",
    "s2ajds = \" \".join([token.lemma_ for token in s2 if token.pos_ == \"ADJ\"])\n",
    "s2nous = \" \".join([token.lemma_ for token in s2 if token.pos_ == \"NOUN\"])\n",
    "s3verbs = \" \".join([token.lemma_ for token in s3 if token.pos_ == \"VERB\"])\n",
    "s3ajds = \" \".join([token.lemma_ for token in s3 if token.pos_ == \"ADJ\"])\n",
    "s3nous = \" \".join([token.lemma_ for token in s3 if token.pos_ == \"NOUN\"])\n"
   ],
   "metadata": {
    "collapsed": false,
    "pycharm": {
     "name": "#%%\n"
    }
   }
  },
  {
   "cell_type": "code",
   "execution_count": 48,
   "outputs": [
    {
     "name": "stdout",
     "output_type": "stream",
     "text": [
      " s1 and s2 verbs : 1.0\n",
      " s1 and s3 verbs : 0.3588737096533849\n",
      " s3 and s2 verbs : 0.3588737096533849\n"
     ]
    }
   ],
   "source": [
    "print(f\" s1 and s2 verbs : {nlp(s1verbs).similarity(nlp(s2verbs))}\" )\n",
    "print(f\" s1 and s3 verbs : {nlp(s1verbs).similarity(nlp(s3verbs))}\" )\n",
    "print(f\" s3 and s2 verbs : {nlp(s3verbs).similarity(nlp(s2verbs))}\" )"
   ],
   "metadata": {
    "collapsed": false,
    "pycharm": {
     "name": "#%%\n"
    }
   }
  },
  {
   "cell_type": "code",
   "execution_count": 49,
   "outputs": [
    {
     "name": "stdout",
     "output_type": "stream",
     "text": [
      " s1 and s2 adjectives : 0.04086257415982774\n",
      " s1 and s3 adjectives : 0.5375523583224598\n",
      " s3 and s2 adjectives : 0.10545342696247444\n"
     ]
    }
   ],
   "source": [
    "print(f\" s1 and s2 adjectives : {nlp(s1ajds).similarity(nlp(s2ajds))}\" )\n",
    "print(f\" s1 and s3 adjectives : {nlp(s1ajds).similarity(nlp(s3ajds))}\" )\n",
    "print(f\" s3 and s2 adjectives : {nlp(s3ajds).similarity(nlp(s2ajds))}\" )"
   ],
   "metadata": {
    "collapsed": false,
    "pycharm": {
     "name": "#%%\n"
    }
   }
  },
  {
   "cell_type": "code",
   "execution_count": null,
   "outputs": [],
   "source": [],
   "metadata": {
    "collapsed": false,
    "pycharm": {
     "name": "#%%\n",
     "is_executing": true
    }
   }
  },
  {
   "cell_type": "code",
   "execution_count": 50,
   "outputs": [
    {
     "name": "stdout",
     "output_type": "stream",
     "text": [
      " s1 and s2 nouns : 0.41074238467581553\n",
      " s1 and s3 nouns : 0.41074238467581553\n",
      " s3 and s2 nouns : 1.0\n"
     ]
    }
   ],
   "source": [
    "print(f\" s1 and s2 nouns : {nlp(s1nous).similarity(nlp(s2nous))}\" )\n",
    "print(f\" s1 and s3 nouns : {nlp(s1nous).similarity(nlp(s3nous))}\" )\n",
    "print(f\" s3 and s2 nouns : {nlp(s3nous).similarity(nlp(s2nous))}\" )"
   ],
   "metadata": {
    "collapsed": false,
    "pycharm": {
     "name": "#%%\n"
    }
   }
  },
  {
   "cell_type": "code",
   "execution_count": null,
   "outputs": [],
   "source": [],
   "metadata": {
    "collapsed": false,
    "pycharm": {
     "name": "#%%\n",
     "is_executing": true
    }
   }
  },
  {
   "cell_type": "code",
   "execution_count": null,
   "outputs": [],
   "source": [],
   "metadata": {
    "collapsed": false,
    "pycharm": {
     "name": "#%%\n",
     "is_executing": true
    }
   }
  },
  {
   "cell_type": "code",
   "execution_count": null,
   "outputs": [],
   "source": [],
   "metadata": {
    "collapsed": false,
    "pycharm": {
     "name": "#%%\n",
     "is_executing": true
    }
   }
  },
  {
   "cell_type": "code",
   "execution_count": 4,
   "outputs": [
    {
     "data": {
      "text/plain": "             Domaine                                           Question  \\\n0    Python niveau 1                             Qu'est-ce que Python ?   \n1    Python niveau 1  Quelle est la différence entre Python 2 et Pyt...   \n2    Python niveau 1      Comment déclare-t-on une variable en Python ?   \n3    Python niveau 1              Quelle est la sortie de print(3 * 2)?   \n4    Python niveau 1  Quel est le résultat de l'expression 3 // 2 en...   \n..               ...                                                ...   \n229              CSS  Quelle est la propriété CSS utilisée pour défi...   \n230       JavaScript  Quelle est la méthode JavaScript utilisée pour...   \n231       JavaScript  Quelle est la méthode JavaScript utilisée pour...   \n232       JavaScript  Quelle est la méthode JavaScript utilisée pour...   \n233       JavaScript  Quelle est la méthode JavaScript utilisée pour...   \n\n                                      Réponse correcte  \n0               Un langage de programmation interprété  \n1    Python 2 est obsolète, Python 3 est la version...  \n2                          En utilisant l'opérateur \"=  \n3                                                    6  \n4                                                    1  \n..                                                 ...  \n229                             \"La propriété display.  \n230   \"La méthode document.getElementsByClassName().\"   \n231               \"La propriété length d'un tableau.\"   \n232               \"La propriété length d'un tableau.\"   \n233                                \"La méthode sort().  \n\n[234 rows x 3 columns]",
      "text/html": "<div>\n<style scoped>\n    .dataframe tbody tr th:only-of-type {\n        vertical-align: middle;\n    }\n\n    .dataframe tbody tr th {\n        vertical-align: top;\n    }\n\n    .dataframe thead th {\n        text-align: right;\n    }\n</style>\n<table border=\"1\" class=\"dataframe\">\n  <thead>\n    <tr style=\"text-align: right;\">\n      <th></th>\n      <th>Domaine</th>\n      <th>Question</th>\n      <th>Réponse correcte</th>\n    </tr>\n  </thead>\n  <tbody>\n    <tr>\n      <th>0</th>\n      <td>Python niveau 1</td>\n      <td>Qu'est-ce que Python ?</td>\n      <td>Un langage de programmation interprété</td>\n    </tr>\n    <tr>\n      <th>1</th>\n      <td>Python niveau 1</td>\n      <td>Quelle est la différence entre Python 2 et Pyt...</td>\n      <td>Python 2 est obsolète, Python 3 est la version...</td>\n    </tr>\n    <tr>\n      <th>2</th>\n      <td>Python niveau 1</td>\n      <td>Comment déclare-t-on une variable en Python ?</td>\n      <td>En utilisant l'opérateur \"=</td>\n    </tr>\n    <tr>\n      <th>3</th>\n      <td>Python niveau 1</td>\n      <td>Quelle est la sortie de print(3 * 2)?</td>\n      <td>6</td>\n    </tr>\n    <tr>\n      <th>4</th>\n      <td>Python niveau 1</td>\n      <td>Quel est le résultat de l'expression 3 // 2 en...</td>\n      <td>1</td>\n    </tr>\n    <tr>\n      <th>...</th>\n      <td>...</td>\n      <td>...</td>\n      <td>...</td>\n    </tr>\n    <tr>\n      <th>229</th>\n      <td>CSS</td>\n      <td>Quelle est la propriété CSS utilisée pour défi...</td>\n      <td>\"La propriété display.</td>\n    </tr>\n    <tr>\n      <th>230</th>\n      <td>JavaScript</td>\n      <td>Quelle est la méthode JavaScript utilisée pour...</td>\n      <td>\"La méthode document.getElementsByClassName().\"</td>\n    </tr>\n    <tr>\n      <th>231</th>\n      <td>JavaScript</td>\n      <td>Quelle est la méthode JavaScript utilisée pour...</td>\n      <td>\"La propriété length d'un tableau.\"</td>\n    </tr>\n    <tr>\n      <th>232</th>\n      <td>JavaScript</td>\n      <td>Quelle est la méthode JavaScript utilisée pour...</td>\n      <td>\"La propriété length d'un tableau.\"</td>\n    </tr>\n    <tr>\n      <th>233</th>\n      <td>JavaScript</td>\n      <td>Quelle est la méthode JavaScript utilisée pour...</td>\n      <td>\"La méthode sort().</td>\n    </tr>\n  </tbody>\n</table>\n<p>234 rows × 3 columns</p>\n</div>"
     },
     "execution_count": 4,
     "metadata": {},
     "output_type": "execute_result"
    }
   ],
   "source": [
    "data"
   ],
   "metadata": {
    "collapsed": false,
    "pycharm": {
     "name": "#%%\n"
    }
   }
  },
  {
   "cell_type": "code",
   "execution_count": 13,
   "outputs": [
    {
     "data": {
      "text/plain": "JavaScript         44\nHTML               43\nCSS                42\nPython niveau 1    15\nPL/SQL             15\nPython (POO)       14\nJava (POO)         14\nBase de données    14\nIA                 13\nML                 12\nDL                  8\nName: Domaine, dtype: int64"
     },
     "execution_count": 13,
     "metadata": {},
     "output_type": "execute_result"
    }
   ],
   "source": [
    "data.Domaine.value_counts()"
   ],
   "metadata": {
    "collapsed": false,
    "pycharm": {
     "name": "#%%\n"
    }
   }
  },
  {
   "cell_type": "code",
   "execution_count": 18,
   "outputs": [],
   "source": [
    "def get_questions_by_category(category):\n",
    "    filtered_questions = data[data[\"Domaine\"] == category][\"Question\"].tolist()\n",
    "    return filtered_questions\n"
   ],
   "metadata": {
    "collapsed": false,
    "pycharm": {
     "name": "#%%\n"
    }
   }
  },
  {
   "cell_type": "code",
   "execution_count": 19,
   "outputs": [],
   "source": [
    "# Test the function\n",
    "category = \"Python niveau 1\"\n",
    "questions = get_questions_by_category(category)\n"
   ],
   "metadata": {
    "collapsed": false,
    "pycharm": {
     "name": "#%%\n"
    }
   }
  },
  {
   "cell_type": "code",
   "execution_count": 20,
   "outputs": [
    {
     "name": "stdout",
     "output_type": "stream",
     "text": [
      "Questions for category Python niveau 1 :\n",
      "Qu'est-ce que Python ?\n",
      "Quelle est la différence entre Python 2 et Python 3 ?\n",
      "Comment déclare-t-on une variable en Python ?\n",
      "Quelle est la sortie de print(3 * 2)?\n",
      "Quel est le résultat de l'expression 3 // 2 en Python ?\n",
      "Qu'est-ce qu'une instruction if en Python ?\n",
      "Quelle est la différence entre une liste et un tuple en Python ?\n",
      "Comment fait-on un commentaire en Python ?\n",
      "Quelle est la méthode pour supprimer un élément d'une liste en Python ?\n",
      "Quelle est la différence entre les opérateurs \"==\" et \"is\" en Python ?\n",
      "Qu'est-ce qu'une instruction if en Python ?\n",
      "Quelle est la différence entre une liste et un tuple en Python ?\n",
      "Comment fait-on un commentaire en Python ?\n",
      "Quelle est la méthode pour supprimer un élément d'une liste en Python ?\n",
      "Quelle est la différence entre les opérateurs \"==\" et \"is\" en Python ?\n"
     ]
    }
   ],
   "source": [
    "print(\"Questions for category\", category, \":\")\n",
    "for question in questions:\n",
    "    print(question)\n"
   ],
   "metadata": {
    "collapsed": false,
    "pycharm": {
     "name": "#%%\n"
    }
   }
  },
  {
   "cell_type": "code",
   "execution_count": 3,
   "outputs": [
    {
     "data": {
      "text/plain": "\"Qu'est-ce que Python ?\""
     },
     "execution_count": 3,
     "metadata": {},
     "output_type": "execute_result"
    }
   ],
   "source": [
    "question = \"Qu'est-ce que Python ?\"\n",
    "question"
   ],
   "metadata": {
    "collapsed": false,
    "pycharm": {
     "name": "#%%\n"
    }
   }
  },
  {
   "cell_type": "code",
   "execution_count": 10,
   "outputs": [
    {
     "data": {
      "text/plain": "'Un langage de programmation interprété'"
     },
     "execution_count": 10,
     "metadata": {},
     "output_type": "execute_result"
    }
   ],
   "source": [
    "answer = data[data['Question']==question].iloc[0][2]\n",
    "answer"
   ],
   "metadata": {
    "collapsed": false,
    "pycharm": {
     "name": "#%%\n"
    }
   }
  },
  {
   "cell_type": "code",
   "execution_count": 5,
   "outputs": [
    {
     "data": {
      "text/plain": "           Domaine                Question  \\\n0  Python niveau 1  Qu'est-ce que Python ?   \n\n                         Réponse correcte  \n0  Un langage de programmation interprété  ",
      "text/html": "<div>\n<style scoped>\n    .dataframe tbody tr th:only-of-type {\n        vertical-align: middle;\n    }\n\n    .dataframe tbody tr th {\n        vertical-align: top;\n    }\n\n    .dataframe thead th {\n        text-align: right;\n    }\n</style>\n<table border=\"1\" class=\"dataframe\">\n  <thead>\n    <tr style=\"text-align: right;\">\n      <th></th>\n      <th>Domaine</th>\n      <th>Question</th>\n      <th>Réponse correcte</th>\n    </tr>\n  </thead>\n  <tbody>\n    <tr>\n      <th>0</th>\n      <td>Python niveau 1</td>\n      <td>Qu'est-ce que Python ?</td>\n      <td>Un langage de programmation interprété</td>\n    </tr>\n  </tbody>\n</table>\n</div>"
     },
     "execution_count": 5,
     "metadata": {},
     "output_type": "execute_result"
    }
   ],
   "source": [
    "answer"
   ],
   "metadata": {
    "collapsed": false,
    "pycharm": {
     "name": "#%%\n"
    }
   }
  },
  {
   "cell_type": "code",
   "execution_count": null,
   "outputs": [],
   "source": [],
   "metadata": {
    "collapsed": false,
    "pycharm": {
     "name": "#%%\n"
    }
   }
  }
 ],
 "metadata": {
  "kernelspec": {
   "display_name": "Python 3",
   "language": "python",
   "name": "python3"
  },
  "language_info": {
   "codemirror_mode": {
    "name": "ipython",
    "version": 2
   },
   "file_extension": ".py",
   "mimetype": "text/x-python",
   "name": "python",
   "nbconvert_exporter": "python",
   "pygments_lexer": "ipython2",
   "version": "2.7.6"
  }
 },
 "nbformat": 4,
 "nbformat_minor": 0
}